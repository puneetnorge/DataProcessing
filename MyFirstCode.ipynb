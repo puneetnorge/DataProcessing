{
 "cells": [
  {
   "cell_type": "code",
   "execution_count": 8,
   "id": "eb649314-fe0e-4141-b358-77898b420a21",
   "metadata": {},
   "outputs": [
    {
     "name": "stdout",
     "output_type": "stream",
     "text": [
      "Hello World!!!\n",
      "Value of π with 3 decimal precision: 3.14\n",
      "Value of π with 4 decimal precision: 3.1416\n",
      "Value of π : 3.141592653589793\n"
     ]
    }
   ],
   "source": [
    "import numpy as np\n",
    "\n",
    "# Diplay a message\n",
    "print('Hello World!!!')\n",
    "# Display the value of pi with 2 decimal precision\n",
    "pi_3_decimal = f'{np.pi:.2f}'\n",
    "print(f'Value of π with 3 decimal precision: {pi_3_decimal}')\n",
    "\n",
    "# Display the value of pi with 4 decimal precision\n",
    "pi_4_decimal = f'{np.pi:.4f}'\n",
    "print(f'Value of π with 4 decimal precision: {pi_4_decimal}')\n",
    "\n",
    "# Display the value of pi \n",
    "print(f'Value of π : {np.pi}')"
   ]
  },
  {
   "cell_type": "code",
   "execution_count": 9,
   "id": "6d7e6cab-daaa-4a88-87d8-4dd778c3f0d6",
   "metadata": {},
   "outputs": [
    {
     "name": "stdout",
     "output_type": "stream",
     "text": [
      "This a a different Cell than the previous code\n"
     ]
    }
   ],
   "source": [
    "print('This a a different Cell than the previous code')"
   ]
  },
  {
   "cell_type": "code",
   "execution_count": null,
   "id": "c46f96a0-2246-4e88-9469-03fbfecb8fb5",
   "metadata": {},
   "outputs": [],
   "source": []
  }
 ],
 "metadata": {
  "kernelspec": {
   "display_name": "Python 3 (ipykernel)",
   "language": "python",
   "name": "python3"
  },
  "language_info": {
   "codemirror_mode": {
    "name": "ipython",
    "version": 3
   },
   "file_extension": ".py",
   "mimetype": "text/x-python",
   "name": "python",
   "nbconvert_exporter": "python",
   "pygments_lexer": "ipython3",
   "version": "3.9.21"
  }
 },
 "nbformat": 4,
 "nbformat_minor": 5
}
