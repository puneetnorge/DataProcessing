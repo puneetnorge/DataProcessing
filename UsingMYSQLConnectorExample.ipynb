{
 "cells": [
  {
   "cell_type": "code",
   "execution_count": 5,
   "id": "1e20b0a1-6100-4155-ac91-4b6bdb0886ed",
   "metadata": {},
   "outputs": [
    {
     "name": "stdout",
     "output_type": "stream",
     "text": [
      "<mysql.connector.connection.MySQLConnection object at 0x000001E74B797D00>\n"
     ]
    }
   ],
   "source": [
    "import mysql.connector\n",
    "\n",
    "mydb = mysql.connector.connect(\n",
    "    host=\"localhost\",\n",
    "    user=\"psh006\",\n",
    "    password=\"My#Strong#Pass123\"\n",
    ")\n",
    "\n",
    "print(mydb)\n"
   ]
  },
  {
   "cell_type": "code",
   "execution_count": 8,
   "id": "7cf67be5-61ed-4369-957b-53677fb3d78c",
   "metadata": {},
   "outputs": [
    {
     "name": "stdout",
     "output_type": "stream",
     "text": [
      "('information_schema',)\n",
      "('mydatabase',)\n",
      "('mysql',)\n",
      "('performance_schema',)\n",
      "('sensordatabase',)\n",
      "('sys',)\n"
     ]
    }
   ],
   "source": [
    "mycursor = mydb.cursor()\n",
    "# Create a Database called SensorDatabase\n",
    "mycursor.execute(\"CREATE DATABASE SensorDatabase\")\n",
    "mycursor.execute(\"SHOW DATABASES\")\n",
    "\n",
    "for x in mycursor:\n",
    "  print(x)\n",
    "\n",
    "mydb.close()\n",
    "mycursor.close()"
   ]
  },
  {
   "cell_type": "code",
   "execution_count": 1,
   "id": "42dbba2a-7499-4641-80e8-6f8273af0097",
   "metadata": {},
   "outputs": [
    {
     "name": "stdout",
     "output_type": "stream",
     "text": [
      "('information_schema',)\n",
      "('mydatabase',)\n",
      "('mysql',)\n",
      "('performance_schema',)\n",
      "('sensordatabase',)\n",
      "('sys',)\n"
     ]
    }
   ],
   "source": [
    "import mysql.connector\n",
    "''' This code is used to display datasets that exist'''\n",
    "conn = mysql.connector.connect(\n",
    "    host=\"localhost\",\n",
    "    user=\"psh006\",\n",
    "    password=\"My#Strong#Pass123\"\n",
    ")\n",
    "\n",
    "cursor = conn.cursor()# creates a cursor object that allows interaction with the MySQL database.\n",
    "cursor.execute(\"SHOW DATABASES\")\n",
    "\n",
    "for db in cursor:\n",
    "    print(db)\n",
    "\n",
    "cursor.close()\n",
    "conn.close()\n"
   ]
  },
  {
   "cell_type": "code",
   "execution_count": 4,
   "id": "5d0bc9cb-de8c-4920-82dc-aaf3c58074bb",
   "metadata": {},
   "outputs": [
    {
     "ename": "DatabaseError",
     "evalue": "1008 (HY000): Can't drop database 'mydatabase'; database doesn't exist",
     "output_type": "error",
     "traceback": [
      "\u001b[1;31m---------------------------------------------------------------------------\u001b[0m",
      "\u001b[1;31mDatabaseError\u001b[0m                             Traceback (most recent call last)",
      "Cell \u001b[1;32mIn[4], line 14\u001b[0m\n\u001b[0;32m     12\u001b[0m \u001b[38;5;66;03m# Drop the database, I accidently added this dataset hence would like to delete this\u001b[39;00m\n\u001b[0;32m     13\u001b[0m database_name \u001b[38;5;241m=\u001b[39m \u001b[38;5;124m\"\u001b[39m\u001b[38;5;124mmydatabase\u001b[39m\u001b[38;5;124m\"\u001b[39m\n\u001b[1;32m---> 14\u001b[0m \u001b[43mcursor\u001b[49m\u001b[38;5;241;43m.\u001b[39;49m\u001b[43mexecute\u001b[49m\u001b[43m(\u001b[49m\u001b[38;5;124;43mf\u001b[39;49m\u001b[38;5;124;43m\"\u001b[39;49m\u001b[38;5;124;43mDROP DATABASE \u001b[39;49m\u001b[38;5;132;43;01m{\u001b[39;49;00m\u001b[43mdatabase_name\u001b[49m\u001b[38;5;132;43;01m}\u001b[39;49;00m\u001b[38;5;124;43m\"\u001b[39;49m\u001b[43m)\u001b[49m\n\u001b[0;32m     16\u001b[0m cursor\u001b[38;5;241m.\u001b[39mclose()\n\u001b[0;32m     17\u001b[0m conn\u001b[38;5;241m.\u001b[39mclose()\n",
      "File \u001b[1;32m~\\AppData\\Local\\anaconda3\\envs\\DataProc\\lib\\site-packages\\mysql\\connector\\cursor.py:748\u001b[0m, in \u001b[0;36mMySQLCursor.execute\u001b[1;34m(self, operation, params, multi)\u001b[0m\n\u001b[0;32m    745\u001b[0m     \u001b[38;5;28;01mreturn\u001b[39;00m \u001b[38;5;28mself\u001b[39m\u001b[38;5;241m.\u001b[39m_execute_iter(\u001b[38;5;28mself\u001b[39m\u001b[38;5;241m.\u001b[39m_connection\u001b[38;5;241m.\u001b[39mcmd_query_iter(stmt))\n\u001b[0;32m    747\u001b[0m \u001b[38;5;28;01mtry\u001b[39;00m:\n\u001b[1;32m--> 748\u001b[0m     \u001b[38;5;28mself\u001b[39m\u001b[38;5;241m.\u001b[39m_handle_result(\u001b[38;5;28;43mself\u001b[39;49m\u001b[38;5;241;43m.\u001b[39;49m\u001b[43m_connection\u001b[49m\u001b[38;5;241;43m.\u001b[39;49m\u001b[43mcmd_query\u001b[49m\u001b[43m(\u001b[49m\u001b[43mstmt\u001b[49m\u001b[43m)\u001b[49m)\n\u001b[0;32m    749\u001b[0m \u001b[38;5;28;01mexcept\u001b[39;00m InterfaceError \u001b[38;5;28;01mas\u001b[39;00m err:\n\u001b[0;32m    750\u001b[0m     \u001b[38;5;28;01mif\u001b[39;00m \u001b[38;5;28mself\u001b[39m\u001b[38;5;241m.\u001b[39m_connection\u001b[38;5;241m.\u001b[39mhave_next_result:\n",
      "File \u001b[1;32m~\\AppData\\Local\\anaconda3\\envs\\DataProc\\lib\\site-packages\\mysql\\connector\\opentelemetry\\context_propagation.py:102\u001b[0m, in \u001b[0;36mwith_context_propagation.<locals>.wrapper\u001b[1;34m(cnx, *args, **kwargs)\u001b[0m\n\u001b[0;32m    100\u001b[0m \u001b[38;5;250m\u001b[39m\u001b[38;5;124;03m\"\"\"Context propagation decorator.\"\"\"\u001b[39;00m\n\u001b[0;32m    101\u001b[0m \u001b[38;5;28;01mif\u001b[39;00m \u001b[38;5;129;01mnot\u001b[39;00m OTEL_ENABLED \u001b[38;5;129;01mor\u001b[39;00m \u001b[38;5;129;01mnot\u001b[39;00m cnx\u001b[38;5;241m.\u001b[39motel_context_propagation:\n\u001b[1;32m--> 102\u001b[0m     \u001b[38;5;28;01mreturn\u001b[39;00m method(cnx, \u001b[38;5;241m*\u001b[39margs, \u001b[38;5;241m*\u001b[39m\u001b[38;5;241m*\u001b[39mkwargs)\n\u001b[0;32m    104\u001b[0m current_span \u001b[38;5;241m=\u001b[39m trace\u001b[38;5;241m.\u001b[39mget_current_span()\n\u001b[0;32m    105\u001b[0m tp_header \u001b[38;5;241m=\u001b[39m \u001b[38;5;28;01mNone\u001b[39;00m\n",
      "File \u001b[1;32m~\\AppData\\Local\\anaconda3\\envs\\DataProc\\lib\\site-packages\\mysql\\connector\\connection.py:861\u001b[0m, in \u001b[0;36mMySQLConnection.cmd_query\u001b[1;34m(self, query, raw, buffered, raw_as_string)\u001b[0m\n\u001b[0;32m    859\u001b[0m query \u001b[38;5;241m=\u001b[39m \u001b[38;5;28mbytes\u001b[39m(packet)\n\u001b[0;32m    860\u001b[0m \u001b[38;5;28;01mtry\u001b[39;00m:\n\u001b[1;32m--> 861\u001b[0m     result \u001b[38;5;241m=\u001b[39m \u001b[38;5;28;43mself\u001b[39;49m\u001b[38;5;241;43m.\u001b[39;49m\u001b[43m_handle_result\u001b[49m\u001b[43m(\u001b[49m\u001b[38;5;28;43mself\u001b[39;49m\u001b[38;5;241;43m.\u001b[39;49m\u001b[43m_send_cmd\u001b[49m\u001b[43m(\u001b[49m\u001b[43mServerCmd\u001b[49m\u001b[38;5;241;43m.\u001b[39;49m\u001b[43mQUERY\u001b[49m\u001b[43m,\u001b[49m\u001b[43m \u001b[49m\u001b[43mquery\u001b[49m\u001b[43m)\u001b[49m\u001b[43m)\u001b[49m\n\u001b[0;32m    862\u001b[0m \u001b[38;5;28;01mexcept\u001b[39;00m ProgrammingError \u001b[38;5;28;01mas\u001b[39;00m err:\n\u001b[0;32m    863\u001b[0m     \u001b[38;5;28;01mif\u001b[39;00m err\u001b[38;5;241m.\u001b[39merrno \u001b[38;5;241m==\u001b[39m \u001b[38;5;241m3948\u001b[39m \u001b[38;5;129;01mand\u001b[39;00m \u001b[38;5;124m\"\u001b[39m\u001b[38;5;124mLoading local data is disabled\u001b[39m\u001b[38;5;124m\"\u001b[39m \u001b[38;5;129;01min\u001b[39;00m err\u001b[38;5;241m.\u001b[39mmsg:\n",
      "File \u001b[1;32m~\\AppData\\Local\\anaconda3\\envs\\DataProc\\lib\\site-packages\\mysql\\connector\\connection.py:637\u001b[0m, in \u001b[0;36mMySQLConnection._handle_result\u001b[1;34m(self, packet)\u001b[0m\n\u001b[0;32m    635\u001b[0m     \u001b[38;5;28;01mreturn\u001b[39;00m \u001b[38;5;28mself\u001b[39m\u001b[38;5;241m.\u001b[39m_handle_eof(packet)\n\u001b[0;32m    636\u001b[0m \u001b[38;5;28;01mif\u001b[39;00m packet[\u001b[38;5;241m4\u001b[39m] \u001b[38;5;241m==\u001b[39m \u001b[38;5;241m255\u001b[39m:\n\u001b[1;32m--> 637\u001b[0m     \u001b[38;5;28;01mraise\u001b[39;00m get_exception(packet)\n\u001b[0;32m    639\u001b[0m \u001b[38;5;66;03m# We have a text result set\u001b[39;00m\n\u001b[0;32m    640\u001b[0m column_count \u001b[38;5;241m=\u001b[39m \u001b[38;5;28mself\u001b[39m\u001b[38;5;241m.\u001b[39m_protocol\u001b[38;5;241m.\u001b[39mparse_column_count(packet)\n",
      "\u001b[1;31mDatabaseError\u001b[0m: 1008 (HY000): Can't drop database 'mydatabase'; database doesn't exist"
     ]
    }
   ],
   "source": [
    "# To remove a dataset (i.e., a database) on an SQLConnector use DROP DATABASE\n",
    "\n",
    "''' This code is used to display datasets that exist'''\n",
    "conn = mysql.connector.connect(\n",
    "    host=\"localhost\",\n",
    "    user=\"psh006\",\n",
    "    password=\"My#Strong#Pass123\"\n",
    ")\n",
    "\n",
    "cursor = conn.cursor()\n",
    "\n",
    "# Drop the database, I accidently added this dataset hence would like to delete this\n",
    "database_name = \"mydatabase\"\n",
    "cursor.execute(f\"DROP DATABASE {database_name}\")\n",
    "\n",
    "cursor.close()\n",
    "conn.close()\n",
    "print(f\"Database {database_name} deleted successfully.\")\n"
   ]
  },
  {
   "cell_type": "code",
   "execution_count": 5,
   "id": "3b6ebcb8-c663-4ebd-a7bb-c8d80d058040",
   "metadata": {},
   "outputs": [
    {
     "name": "stdout",
     "output_type": "stream",
     "text": [
      "Database 'sensordatabase' created successfully.\n",
      "Table 'sensors_data' created successfully.\n",
      "Inserted 10 random records into 'sensors_data'.\n",
      "\n",
      "Sample Records:\n",
      "(1, 28.33, 29.93, 'Pa')\n",
      "(2, 9.15, 10.81, '°C')\n",
      "(3, 43.86, 51.98, 'V')\n",
      "(4, 92.36, 109.13, 'Pa')\n",
      "(5, 51.23, 47.16, 'Pa')\n",
      "(6, 85.1, 85.99, 'Pa')\n",
      "(7, 49.86, 49.82, '%')\n",
      "(8, 68.71, 75.13, '%')\n",
      "(9, 81.18, 89.22, '%')\n",
      "(10, 57.09, 48.94, 'V')\n",
      "(11, 48.05, 42.06, '°C')\n",
      "(12, 23.55, 19.4, 'm/s')\n",
      "(13, 87.79, 77.72, 'Pa')\n",
      "(14, 9.17, 8.31, 'm/s')\n",
      "(15, 65.67, 61.08, '°C')\n",
      "(16, 42.3, 41.89, '%')\n",
      "(17, 9.6, 11.26, '%')\n",
      "(18, 87.98, 104.08, 'Pa')\n",
      "(19, 4.84, 4.38, '%')\n",
      "(20, 85.35, 71.29, 'V')\n"
     ]
    }
   ],
   "source": [
    "import mysql.connector\n",
    "import random\n",
    "\n",
    "# Connect to MySQL server\n",
    "conn = mysql.connector.connect(\n",
    "    host=\"localhost\",\n",
    "    user=\"psh006\",\n",
    "    password=\"My#Strong#Pass123\"\n",
    ")\n",
    "\n",
    "cursor = conn.cursor()\n",
    "\n",
    "'''Create the database if it does not exist'''\n",
    "cursor.execute(\"CREATE DATABASE IF NOT EXISTS sensordatabase\")\n",
    "print(\"Database 'sensordatabase' created successfully.\")\n",
    "\n",
    "# Connect to the 'sensorsdatbase' \n",
    "conn.database = \"sensordatabase\"\n",
    "\n",
    "'''Create the table if it does not exist'''\n",
    "create_table_query = \"\"\"\n",
    "CREATE TABLE IF NOT EXISTS sensors_data (\n",
    "    Sensor_Id INT AUTO_INCREMENT PRIMARY KEY,\n",
    "    Raw_value FLOAT NOT NULL,\n",
    "    Processed_value FLOAT NOT NULL,\n",
    "    Units VARCHAR(10) NOT NULL\n",
    ");\n",
    "\"\"\"\n",
    "cursor.execute(create_table_query)\n",
    "print(\"Table 'sensors_data' created successfully.\")\n",
    "\n",
    "# Random data to be inserted into the table\n",
    "units_list = [\"°C\", \"V\", \"m/s\", \"Pa\", \"%\"]  # Example units\n",
    "\n",
    "insert_query = \"INSERT INTO sensors_data (Raw_value, Processed_value, Units) VALUES (%s, %s, %s)\"\n",
    "\n",
    "# Insert 10 random records\n",
    "for _ in range(10):\n",
    "    # Random float in the range [0,100]\n",
    "    raw_value = round(random.uniform(0, 100), 2)  \n",
    "    # Processed with a small variation of the orig\n",
    "    processed_value = round(raw_value * random.uniform(0.8, 1.2), 2)  \n",
    "    # randomly selected element from the list\n",
    "    unit = random.choice(units_list)\n",
    "    cursor.execute(insert_query, (raw_value, processed_value, unit))\n",
    "\n",
    "conn.commit()  # Commit to database\n",
    "print(\"Inserted 10 random records into 'database'.\")\n",
    "\n",
    "# Fetch and display inserted records\n",
    "cursor.execute(\"SELECT * FROM sensors_data\")\n",
    "rows = cursor.fetchall()\n",
    "print(\"\\nSample Records:\")\n",
    "for row in rows:\n",
    "    print(row)\n",
    "cursor.close()\n",
    "conn.close()\n"
   ]
  },
  {
   "cell_type": "code",
   "execution_count": null,
   "id": "f22a7b7f-4eb6-4727-b353-ccc8a3df93dc",
   "metadata": {},
   "outputs": [],
   "source": []
  }
 ],
 "metadata": {
  "kernelspec": {
   "display_name": "Python 3 (ipykernel)",
   "language": "python",
   "name": "python3"
  },
  "language_info": {
   "codemirror_mode": {
    "name": "ipython",
    "version": 3
   },
   "file_extension": ".py",
   "mimetype": "text/x-python",
   "name": "python",
   "nbconvert_exporter": "python",
   "pygments_lexer": "ipython3",
   "version": "3.9.21"
  }
 },
 "nbformat": 4,
 "nbformat_minor": 5
}
