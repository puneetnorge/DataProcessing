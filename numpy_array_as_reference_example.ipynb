{
 "cells": [
  {
   "cell_type": "code",
   "execution_count": 4,
   "id": "b4280b38-4d74-4dc8-9a1c-51be434fed0f",
   "metadata": {},
   "outputs": [
    {
     "name": "stdout",
     "output_type": "stream",
     "text": [
      "Original Array: [1 2 3 4 5]\n",
      "Original Array: [22  2  3  4  5]\n",
      "Reference Array: [22  2  3  4  5]\n",
      "Copied Array: [22 99  3  4  5]\n"
     ]
    }
   ],
   "source": [
    "import numpy as np\n",
    "# Create a NumPy array\n",
    "orig_array = np.array([1, 2, 3, 4, 5])\n",
    "print(\"Original Array:\", orig_array)  # original array\n",
    "\n",
    "# Reference assignment i.e.,ref array points to orig_array\n",
    "ref_array = orig_array\n",
    "ref_array[0] = 22  # This modifies the original as well\n",
    "\n",
    "# Copy by value (creates a new independent array)\n",
    "copy_array = orig_array.copy()\n",
    "copy_array[1] = 99 # Does not affect the original array\n",
    "\n",
    "# Display results\n",
    "print(\"Original Array:\", orig_array)  # original array\n",
    "print(\"Reference Array:\", ref_array)  # referenced array\n",
    "print(\"Copied Array:\", copy_array)  # copied array"
   ]
  },
  {
   "cell_type": "code",
   "execution_count": 13,
   "id": "2d01ead4-298b-49b3-83fd-0b477e1f3e8c",
   "metadata": {},
   "outputs": [
    {
     "name": "stdout",
     "output_type": "stream",
     "text": [
      "Original Matrix:\n",
      " [[12  6  1  8]\n",
      " [13  1  5  5]\n",
      " [16 15 16 11]\n",
      " [ 8  4  2 12]]\n",
      "Row-wise Sums: [27 24 58 26]\n",
      "Column-wise Sums: [49 26 24 36]\n",
      "Normalized Matrix:\n",
      " [[0.73 0.33 0.   0.47]\n",
      " [0.8  0.   0.27 0.27]\n",
      " [1.   0.93 1.   0.67]\n",
      " [0.47 0.2  0.07 0.73]]\n",
      "Filtered Mtarix Elements (>=5): [12  6  8 13  5  5 16 15 16 11  8 12]\n"
     ]
    }
   ],
   "source": [
    "import numpy as np\n",
    "# Create a 5 by 5 random matrix\n",
    "np.random.seed(77)  # For reproducibility\n",
    "matrix = np.random.randint(1, 20, (4, 4))\n",
    "print(\"Original Matrix:\\n\", matrix)\n",
    "\n",
    "# Compute row-wise and column-wise sums\n",
    "row_sums = matrix.sum(axis=1)\n",
    "col_sums = matrix.sum(axis=0)\n",
    "\n",
    "# Display results\n",
    "print(\"Row-wise Sums:\", row_sums)\n",
    "print(\"Column-wise Sums:\", col_sums)\n",
    "# Normalize the matrix (Feature Scaling: Min-Max Scaling)\n",
    "norm_matrix = (matrix - matrix.min()) / (matrix.max() - matrix.min())\n",
    "print(\"Normalized Matrix:\\n\", np.round(norm_matrix, 2))\n",
    "# extracting elements greater than or equal to 5\n",
    "filt_matrix_elements = matrix[matrix >= 5]\n",
    "print(\"Filtered Mtarix Elements (>=5):\", filt_matrix_elements)\n",
    "\n"
   ]
  },
  {
   "cell_type": "code",
   "execution_count": 18,
   "id": "c06108c3-16d5-4767-8971-ec306bb75afa",
   "metadata": {},
   "outputs": [
    {
     "name": "stdout",
     "output_type": "stream",
     "text": [
      "orig data = [[10]\n",
      " [20]\n",
      " [30]\n",
      " [40]]\n",
      "scaled data = [[0.        ]\n",
      " [0.33333333]\n",
      " [0.66666667]\n",
      " [1.        ]]\n"
     ]
    }
   ],
   "source": [
    "\"\"\" Min Max Scaler Example\"\"\"\n",
    "from sklearn.preprocessing import MinMaxScaler\n",
    "\n",
    "data = np.array([[10], [20], [30], [40]])\n",
    "print(f\"orig data = {data}\")\n",
    "#This estimator scales and translates each feature \n",
    "# individually in the range [0,1]\n",
    "scaler = MinMaxScaler(feature_range=(0, 1))\n",
    "scaled_data = scaler.fit_transform(data)\n",
    "print(f\"scaled data = {scaled_data}\")"
   ]
  },
  {
   "cell_type": "code",
   "execution_count": 16,
   "id": "3fe3644d-9a9e-43dd-9981-d9315e92e6c7",
   "metadata": {},
   "outputs": [
    {
     "name": "stdout",
     "output_type": "stream",
     "text": [
      "orig data = [[10]\n",
      " [20]\n",
      " [30]\n",
      " [40]]\n",
      "scaled data = [[-1.34164079]\n",
      " [-0.4472136 ]\n",
      " [ 0.4472136 ]\n",
      " [ 1.34164079]]\n"
     ]
    }
   ],
   "source": [
    "from sklearn.preprocessing import StandardScaler\n",
    "\n",
    "scaler = StandardScaler()\n",
    "scaled_data = scaler.fit_transform(data)\n",
    "print(f\"orig data = {data}\")\n",
    "print(f\"scaled data = {scaled_data}\")"
   ]
  },
  {
   "cell_type": "code",
   "execution_count": 17,
   "id": "c35ab856-14a1-4695-8f34-72c22149d3c2",
   "metadata": {},
   "outputs": [
    {
     "name": "stdout",
     "output_type": "stream",
     "text": [
      "orig data = [[10]\n",
      " [20]\n",
      " [30]\n",
      " [40]]\n",
      "scaled data = [[-1.        ]\n",
      " [-0.33333333]\n",
      " [ 0.33333333]\n",
      " [ 1.        ]]\n"
     ]
    }
   ],
   "source": [
    "from sklearn.preprocessing import RobustScaler\n",
    "\n",
    "scaler = RobustScaler()\n",
    "scaled_data = scaler.fit_transform(data)\n",
    "print(f\"orig data = {data}\")\n",
    "print(f\"scaled data = {scaled_data}\")"
   ]
  },
  {
   "cell_type": "code",
   "execution_count": null,
   "id": "85ea4c63-a639-4121-8f45-97f982690463",
   "metadata": {},
   "outputs": [],
   "source": []
  }
 ],
 "metadata": {
  "kernelspec": {
   "display_name": "Python 3 (ipykernel)",
   "language": "python",
   "name": "python3"
  },
  "language_info": {
   "codemirror_mode": {
    "name": "ipython",
    "version": 3
   },
   "file_extension": ".py",
   "mimetype": "text/x-python",
   "name": "python",
   "nbconvert_exporter": "python",
   "pygments_lexer": "ipython3",
   "version": "3.12.7"
  }
 },
 "nbformat": 4,
 "nbformat_minor": 5
}
