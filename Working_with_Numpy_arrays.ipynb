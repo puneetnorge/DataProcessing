{
 "cells": [
  {
   "cell_type": "code",
   "execution_count": 11,
   "id": "905ab1fd-1e5d-4d78-9364-35e9fba51be8",
   "metadata": {},
   "outputs": [
    {
     "name": "stdout",
     "output_type": "stream",
     "text": [
      "Original Array : = \n",
      " [[1 2 3]\n",
      " [4 5 6]]\n",
      "\n",
      "Sliced Array:\n",
      " [[2 3]\n",
      " [5 6]]\n",
      "\n",
      "Reshaped Array:\n",
      " [[1 2]\n",
      " [3 4]\n",
      " [5 6]]\n",
      "Array2 = \n",
      " [[ 7  8  9]\n",
      " [10 11 12]] and size is (2, 3)\n",
      "\n",
      "Joined Array (axis=0):\n",
      " [[ 1  2  3]\n",
      " [ 4  5  6]\n",
      " [ 7  8  9]\n",
      " [10 11 12]]\n",
      "\n",
      "Joined Array (axis=1):\n",
      " [[ 1  2  3  7  8  9]\n",
      " [ 4  5  6 10 11 12]]\n"
     ]
    }
   ],
   "source": [
    "import numpy as np\n",
    "\n",
    "# Creating a 2D NumPy array that is 2 rows and 3 columns\n",
    "arr = np.array([[1, 2, 3], [4, 5, 6]])\n",
    "print(f\"Original Array : = \\n {arr}\")\n",
    "# Slicing the array\n",
    "slice_arr = arr[:, 1:]  # Extracting last two columns\n",
    "print(\"\\nSliced Array:\\n\", slice_arr)\n",
    "# Reshaping the array\n",
    "reshaped_arr = arr.reshape(3, 2)  # Reshaping to 3 rows and 2 columns\n",
    "print(\"\\nReshaped Array:\\n\", reshaped_arr)\n",
    "# Creating another array called arr2 for joining\n",
    "arr2 = np.array([[7, 8, 9], [10, 11, 12]])\n",
    "print(f\"Array2 = \\n {arr2} and size is {arr2.shape}\")\n",
    "# Joining arrays along rows (axis=0)\n",
    "joined_arr1 = np.concatenate((arr, arr2), axis=0)\n",
    "print(\"\\nJoined Array (axis=0):\\n\", joined_arr1)\n",
    "# Joining arrays along columns (axis=1)\n",
    "joined_arr2 = np.concatenate((arr, arr2), axis=1)\n",
    "print(\"\\nJoined Array (axis=1):\\n\", joined_arr2)\n"
   ]
  },
  {
   "cell_type": "code",
   "execution_count": 20,
   "id": "26736d57-2439-4196-90cd-b82c35e9b356",
   "metadata": {},
   "outputs": [
    {
     "name": "stdout",
     "output_type": "stream",
     "text": [
      "[0 1 2 3 4 5 7 8 9]\n",
      "[False False False False  True  True]\n"
     ]
    }
   ],
   "source": [
    "\"\"\" Sorting Numpy Arrays\"\"\"\n",
    "import numpy as np\n",
    "arr = np.array([9, 3, 2, 0, 1, 7, 8, 5, 4])\n",
    "print(np.sort(arr))\n",
    "\n",
    "binary_arr = np.array([True, False, False, True, False, False])\n",
    "print(np.sort(binary_arr))"
   ]
  },
  {
   "cell_type": "code",
   "execution_count": 21,
   "id": "a55b5711-bea1-4bfd-9c41-135d3c78defd",
   "metadata": {},
   "outputs": [
    {
     "name": "stdout",
     "output_type": "stream",
     "text": [
      "list_arr = [24 17 25 22 17 16] and indices = [3, 7, 10, 14, 15, 16]\n"
     ]
    }
   ],
   "source": [
    "\"\"\" In the following code iterate through all elements of the array\n",
    " and find all elements greater than a threshold value store them in a list\n",
    " and also note their index value and store that in another list\n",
    "\"\"\"\n",
    "import numpy as np\n",
    "arr = np.array([11, 2, 13, 24, 5, 0 , 7, 17, 9, 8, 25, 7, 8, 9, 22, 17, 16, 3, 4 , 11])\n",
    "# Create empty lists for values and their index values\n",
    "list_arr = []\n",
    "list_indx = []\n",
    "indx = 0\n",
    "# iterate through the array\n",
    "for element in arr:\n",
    "  # if the element is greate than or equals a threshold value\n",
    "  if element >= 16:\n",
    "    list_arr.append(element)\n",
    "    list_indx.append(indx)\n",
    "  indx = indx + 1\n",
    "print(f\"list_arr = {np.int64(list_arr)} and indices = {list_indx}\")\n"
   ]
  },
  {
   "cell_type": "code",
   "execution_count": null,
   "id": "79238324-2b3c-4881-8484-d46a3c12ce75",
   "metadata": {},
   "outputs": [],
   "source": []
  }
 ],
 "metadata": {
  "kernelspec": {
   "display_name": "Python 3 (ipykernel)",
   "language": "python",
   "name": "python3"
  },
  "language_info": {
   "codemirror_mode": {
    "name": "ipython",
    "version": 3
   },
   "file_extension": ".py",
   "mimetype": "text/x-python",
   "name": "python",
   "nbconvert_exporter": "python",
   "pygments_lexer": "ipython3",
   "version": "3.9.21"
  }
 },
 "nbformat": 4,
 "nbformat_minor": 5
}
