{
 "cells": [
  {
   "cell_type": "code",
   "execution_count": 18,
   "id": "2fc7dbb2-703c-4ff9-8c37-b1d5d679b0c5",
   "metadata": {},
   "outputs": [],
   "source": [
    "import random\n",
    "\"\"\"Sensor Class with methods\"\"\"\n",
    "class Sensor:\n",
    "    model_id = 'JAX6767'\n",
    "    temperature = 0\n",
    "    relative_humidity = 0.0\n",
    "    co2_concentration = 0\n",
    "    \n",
    "    \"\"\"This method is used to display the variables of Sensor Object\"\"\"\n",
    "    def display_parameters(self) -> None:\n",
    "        print(\" Model ID \"+self.model_id+\"\\n Temp in (C) \"+str(self.temperature)\n",
    "             +\"\\n Relative Humidity(in perc.)\"+str(self.relative_humidity)+ \n",
    "             \"\\n CO2 Conc. \"+str(self.co2_concentration))\n",
    "        \n",
    "        \n",
    "    \"\"\"Methods used to change the variables\"\"\"\n",
    "    def change_temp(self, temperature) -> None:\n",
    "        self.temperature = temperature\n",
    "    def change_relHum(self, relative_humidity) -> None:\n",
    "        self.relative_humidity = relative_humidity\n",
    "    def change_CO2_conc(self, co2_concentration) ->None:\n",
    "        self.co2_concentration = co2_concentration"
   ]
  },
  {
   "cell_type": "code",
   "execution_count": 19,
   "id": "87184796-24cb-449b-b0d8-d0e96ccca799",
   "metadata": {},
   "outputs": [
    {
     "name": "stdout",
     "output_type": "stream",
     "text": [
      "<class '__main__.Sensor'>\n",
      " Model ID JAX6767\n",
      " Temp in (C) 0\n",
      " Relative Humidity(in perc.)0.0\n",
      " CO2 Conc. 0\n",
      " Model ID JAX6767\n",
      " Temp in (C) 25.5\n",
      " Relative Humidity(in perc.)77.7\n",
      " CO2 Conc. 525\n"
     ]
    }
   ],
   "source": [
    "obj_sen = Sensor\n",
    "print(obj_sen)\n",
    "obj_sen.display_parameters(obj_sen)\n",
    "obj_sen.change_temp(obj_sen,25.5)\n",
    "obj_sen.change_CO2_conc(obj_sen,525)\n",
    "obj_sen.change_relHum(obj_sen,77.7)\n",
    "obj_sen.display_parameters(obj_sen)"
   ]
  },
  {
   "cell_type": "code",
   "execution_count": null,
   "id": "7e797065-739e-462f-a37b-771b6735b124",
   "metadata": {},
   "outputs": [],
   "source": []
  }
 ],
 "metadata": {
  "kernelspec": {
   "display_name": "Python 3 (ipykernel)",
   "language": "python",
   "name": "python3"
  },
  "language_info": {
   "codemirror_mode": {
    "name": "ipython",
    "version": 3
   },
   "file_extension": ".py",
   "mimetype": "text/x-python",
   "name": "python",
   "nbconvert_exporter": "python",
   "pygments_lexer": "ipython3",
   "version": "3.9.21"
  }
 },
 "nbformat": 4,
 "nbformat_minor": 5
}
